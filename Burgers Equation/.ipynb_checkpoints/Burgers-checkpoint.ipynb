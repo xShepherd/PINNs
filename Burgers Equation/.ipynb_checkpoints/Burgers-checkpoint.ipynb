{
 "cells": [
  {
   "cell_type": "code",
   "execution_count": 1,
   "metadata": {
    "tags": []
   },
   "outputs": [],
   "source": [
    "import math\n",
    "\n",
    "import torch\n",
    "import torch.nn as nn\n",
    "import torch.nn.functional as F\n",
    "\n",
    "import numpy as np\n",
    "import seaborn as sns\n",
    "import matplotlib.pyplot as plt\n",
    "\n",
    "import traceback\n",
    "from collections import OrderedDict\n",
    "from tqdm import tqdm\n",
    "\n",
    "sns.set_style(\"white\")\n",
    "\n",
    "try:\n",
    "    plt.rcParams.update({                      # setup matplotlib to use latex for output\n",
    "        \"pgf.texsystem\": \"pdflatex\",        # change this if using xetex or lautex\n",
    "        \"text.usetex\": True,                # use LaTeX to write all text\n",
    "        \"font.family\": \"serif\",\n",
    "        \"font.serif\": [],                   # blank entries should cause plots to inherit fonts from the document\n",
    "        \"font.sans-serif\": [],\n",
    "        \"font.monospace\": [],\n",
    "        \"figure.figsize\": (12,8),\n",
    "        \"axes.labelsize\": 12,               # LaTeX default is 10pt font.\n",
    "        \"font.size\": 11,\n",
    "        \"legend.fontsize\": 10,               # Make the legend/label fonts a little smaller\n",
    "        \"xtick.labelsize\": 10,\n",
    "        \"ytick.labelsize\": 10,\n",
    "        \"pgf.preamble\": [\n",
    "            r\"\\usepackage[utf8x]{inputenc}\",    # use utf8 fonts becasue your computer can handle it :)\n",
    "            r\"\\usepackage[T1]{fontenc}\",        # plots will be generated using this preamble\n",
    "            ]\n",
    "        })\n",
    "except Exception as err:\n",
    "    traceback.print_exc(err)"
   ]
  },
  {
   "cell_type": "code",
   "execution_count": 2,
   "metadata": {
    "tags": []
   },
   "outputs": [],
   "source": [
    "# Multi-layer Perceptron\n",
    "class NN(nn.Module):\n",
    "    def __init__(\n",
    "        self,\n",
    "        input_size,\n",
    "        hidden_size,\n",
    "        output_size,\n",
    "        depth,\n",
    "        act=torch.nn.Tanh,\n",
    "    ):\n",
    "        super(NN, self).__init__()\n",
    "        \n",
    "        layers = [('input', torch.nn.Linear(input_size, hidden_size))]\n",
    "        layers.append(('input_activation', act()))\n",
    "        for i in range(depth): \n",
    "            layers.append(\n",
    "                ('hidden_%d' % i, torch.nn.Linear(hidden_size, hidden_size))\n",
    "            )\n",
    "            layers.append(('activation_%d' % i, act()))\n",
    "        layers.append(('output', torch.nn.Linear(hidden_size, output_size)))\n",
    "\n",
    "        layerDict = OrderedDict(layers)\n",
    "        self.layers = torch.nn.Sequential(layerDict)\n",
    "\n",
    "    def forward(self, x):\n",
    "        out = self.layers(x)\n",
    "        return out"
   ]
  },
  {
   "cell_type": "code",
   "execution_count": 7,
   "metadata": {
    "tags": []
   },
   "outputs": [],
   "source": [
    "class Net:\n",
    "    def __init__(self):\n",
    "        device = torch.device(\"cuda\") if torch.cuda.is_available() else torch.device(\"cpu\")\n",
    "\n",
    "        self.model = NN(\n",
    "            input_size=2,\n",
    "            hidden_size=20,\n",
    "            output_size=1,\n",
    "            depth=4,\n",
    "            act=torch.nn.Tanh\n",
    "        ).to(device)\n",
    "        \n",
    "        self.h = 0.1\n",
    "        self.k = 0.1\n",
    "        x = torch.arange(-1, 1 + self.h, self.h)\n",
    "        t = torch.arange(0, 1 + self.k, self.k)\n",
    "\n",
    "        # exact solution\n",
    "        self.X = torch.stack(torch.meshgrid(x, t)).reshape(2, -1).T\n",
    "        \n",
    "        # training data\n",
    "        bc1 = torch.stack(torch.meshgrid(x[0], t)).reshape(2, -1).T\n",
    "        bc2 = torch.stack(torch.meshgrid(x[-1], t)).reshape(2, -1).T\n",
    "        ic = torch.stack(torch.meshgrid(x, t[0])).reshape(2, -1).T\n",
    "        self.X_train = torch.cat([bc1, bc2, ic])\n",
    "        y_bc1 = torch.zeros(len(bc1))\n",
    "        y_bc2 = torch.zeros(len(bc2))\n",
    "        y_ic = -torch.sin(math.pi * ic[:, 0])\n",
    "        self.y_train = torch.cat([y_bc1, y_bc2, y_ic])\n",
    "        self.y_train = self.y_train.unsqueeze(1)\n",
    "        \n",
    "        self.X = self.X.to(device)\n",
    "        self.X_train = self.X_train.to(device)\n",
    "        self.y_train = self.y_train.to(device)\n",
    "        self.X.requires_grad = True\n",
    "        \n",
    "        self.criterion = torch.nn.MSELoss()\n",
    "        self.iter = 1\n",
    "        \n",
    "        self.optimizer = torch.optim.LBFGS(\n",
    "            self.model.parameters(), \n",
    "            lr=1.0, \n",
    "            max_iter=50000, \n",
    "            max_eval=50000, \n",
    "            history_size=50,\n",
    "            tolerance_grad=1e-7, \n",
    "            tolerance_change=1.0 * np.finfo(float).eps,\n",
    "            line_search_fn=\"strong_wolfe\",   # better numerical stability\n",
    "        )\n",
    "        \n",
    "        self.adam = torch.optim.Adam(self.model.parameters())\n",
    "        \n",
    "    def loss_func(self):\n",
    "        # this is more like a not so elegant hack to zero grad both optimizers\n",
    "        self.adam.zero_grad()\n",
    "        self.optimizer.zero_grad()\n",
    "        \n",
    "        y_pred = self.model(self.X_train)\n",
    "        loss_data = self.criterion(y_pred, self.y_train)\n",
    "        u = self.model(self.X)\n",
    "\n",
    "        du_dX = torch.autograd.grad(\n",
    "            inputs=self.X, \n",
    "            outputs=u, \n",
    "            grad_outputs=torch.ones_like(u), \n",
    "            retain_graph=True, \n",
    "            create_graph=True\n",
    "        )[0]\n",
    "        \n",
    "        du_dt = du_dX[:, 1]\n",
    "        du_dx = du_dX[:, 0]\n",
    "        du_dxx = torch.autograd.grad(\n",
    "            inputs=self.X, \n",
    "            outputs=du_dX, \n",
    "            grad_outputs=torch.ones_like(du_dX), \n",
    "            retain_graph=True, \n",
    "            create_graph=True\n",
    "        )[0][:, 0]\n",
    "        \n",
    "        loss_pde = self.criterion(du_dt + u.squeeze() * du_dx, 0.01 / math.pi * du_dxx)\n",
    "\n",
    "        loss = loss_pde + loss_data\n",
    "        loss.backward()\n",
    "        if self.iter % 100 == 0: \n",
    "            print(self.iter, loss.item())\n",
    "        self.iter = self.iter + 1\n",
    "        return loss\n",
    "    \n",
    "    def train(self):\n",
    "        self.model.train()\n",
    "        for i in range(1000):\n",
    "            self.adam.step(self.loss_func)\n",
    "        self.optimizer.step(self.loss_func)\n",
    "        \n",
    "    def eval_(self):\n",
    "        self.model.eval()"
   ]
  },
  {
   "cell_type": "markdown",
   "metadata": {},
   "source": [
    "# Training"
   ]
  },
  {
   "cell_type": "code",
   "execution_count": 8,
   "metadata": {
    "tags": []
   },
   "outputs": [
    {
     "name": "stdout",
     "output_type": "stream",
     "text": [
      "100 0.15004584193229675\n",
      "200 0.08877906948328018\n",
      "300 0.0770166665315628\n",
      "400 0.06782785803079605\n",
      "500 0.04952007532119751\n",
      "600 0.028598956763744354\n",
      "700 0.02279186248779297\n",
      "800 0.018908139318227768\n",
      "900 0.017064841464161873\n",
      "1000 0.017458194866776466\n",
      "1100 0.010111259296536446\n",
      "1200 0.0064016226679086685\n",
      "1300 0.004022929817438126\n",
      "1400 0.0028393445536494255\n",
      "1500 0.00198597670532763\n",
      "1600 0.001551653491333127\n",
      "1700 0.0012414671946316957\n",
      "1800 0.0010071115102618933\n",
      "1900 0.00080698705278337\n",
      "2000 0.0006300318636931479\n",
      "2100 0.0005006342544220388\n",
      "2200 0.00042068626498803496\n",
      "2300 0.0003605309466365725\n",
      "2400 0.00029069127049297094\n",
      "2500 0.0002426604478387162\n",
      "2600 0.00021822386770509183\n",
      "2700 0.00020395869796629995\n",
      "2800 0.00018316561181563884\n",
      "2900 0.00016744426102377474\n",
      "3000 0.00015147009980864823\n",
      "3100 0.00013238551036920398\n",
      "3200 0.0001155738573288545\n",
      "3300 0.00010326945630367845\n",
      "3400 9.573971328791231e-05\n",
      "3500 8.803901437204331e-05\n",
      "3600 8.084619912551716e-05\n",
      "3700 6.71434827381745e-05\n",
      "3800 6.041110827936791e-05\n",
      "3900 5.278462776914239e-05\n",
      "4000 4.8469286412000656e-05\n",
      "4100 4.454607915249653e-05\n",
      "4200 4.113122486160137e-05\n",
      "4300 3.87290638172999e-05\n",
      "4400 3.5903674870496616e-05\n",
      "4500 3.38666868628934e-05\n",
      "4600 3.166159149259329e-05\n",
      "4700 2.9481110686901957e-05\n",
      "4800 2.6341733246226795e-05\n",
      "4900 2.4102386305457912e-05\n",
      "5000 2.2309301130007952e-05\n",
      "5100 2.0090272300876677e-05\n",
      "5200 1.8314160115551203e-05\n",
      "5300 1.7148384358733892e-05\n",
      "5400 1.6177404177142307e-05\n",
      "5500 1.542458267067559e-05\n"
     ]
    }
   ],
   "source": [
    "net = Net()\n",
    "net.train()"
   ]
  },
  {
   "cell_type": "markdown",
   "metadata": {},
   "source": [
    "# Evaluation"
   ]
  },
  {
   "cell_type": "code",
   "execution_count": 10,
   "metadata": {
    "tags": []
   },
   "outputs": [],
   "source": [
    "# net.eval_()\n",
    "net.model.eval()\n",
    "h = 0.01\n",
    "k = 0.01\n",
    "x = torch.arange(-1, 1, h)\n",
    "t = torch.arange(0, 1, k)\n",
    "\n",
    "# exact solution\n",
    "X = torch.stack(torch.meshgrid(x, t)).reshape(2, -1).T\n",
    "X = X.to(net.X.device)"
   ]
  },
  {
   "cell_type": "code",
   "execution_count": 11,
   "metadata": {
    "tags": []
   },
   "outputs": [],
   "source": [
    "model = net.model\n",
    "model.eval()\n",
    "with torch.no_grad():\n",
    "    y_pred = model(X).reshape(len(x), len(t)).cpu().numpy()"
   ]
  },
  {
   "cell_type": "code",
   "execution_count": 18,
   "metadata": {
    "tags": []
   },
   "outputs": [
    {
     "data": {
      "image/png": "[encoded data removed]",
      "text/plain": [
       "<Figure size 750x450 with 2 Axes>"
      ]
     },
     "metadata": {},
     "output_type": "display_data"
    }
   ],
   "source": [
    "plt.figure(figsize=(5, 3), dpi=150)\n",
    "sns.heatmap(y_pred, cmap='jet')\n",
    "plt.show()"
   ]
  }
 ],
 "metadata": {
  "kernelspec": {
   "display_name": "Python 3 (ipykernel)",
   "language": "python",
   "name": "python3"
  },
  "language_info": {
   "codemirror_mode": {
    "name": "ipython",
    "version": 3
   },
   "file_extension": ".py",
   "mimetype": "text/x-python",
   "name": "python",
   "nbconvert_exporter": "python",
   "pygments_lexer": "ipython3",
   "version": "3.9.12"
  }
 },
 "nbformat": 4,
 "nbformat_minor": 4
}
